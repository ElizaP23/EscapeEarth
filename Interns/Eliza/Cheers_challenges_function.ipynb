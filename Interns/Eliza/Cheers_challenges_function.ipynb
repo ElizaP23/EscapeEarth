{
  "nbformat": 4,
  "nbformat_minor": 0,
  "metadata": {
    "colab": {
      "name": "Cheers-challenges-function.ipynb",
      "provenance": [],
      "authorship_tag": "ABX9TyMYMJISq650RIowLd1C0m1P",
      "include_colab_link": true
    },
    "kernelspec": {
      "name": "python3",
      "display_name": "Python 3"
    }
  },
  "cells": [
    {
      "cell_type": "markdown",
      "metadata": {
        "id": "view-in-github",
        "colab_type": "text"
      },
      "source": [
        "<a href=\"https://colab.research.google.com/github/ElizaP23/EscapeEarth/blob/main/Interns/Eliza/Cheers_challenges_function.ipynb\" target=\"_parent\"><img src=\"https://colab.research.google.com/assets/colab-badge.svg\" alt=\"Open In Colab\"/></a>"
      ]
    },
    {
      "cell_type": "code",
      "metadata": {
        "id": "tJq709vp9hcC",
        "outputId": "734c50b5-3dfb-4ea3-aa7a-414944307f7d",
        "colab": {
          "base_uri": "https://localhost:8080/"
        }
      },
      "source": [
        "import random\n",
        "first = (\"Maria\", \"Anna Claire\", \"Eliza\", \"Sarah\", \"Elise\",)\n",
        "name= random.choice(first)\n",
        "print(\"Your name is: \" + name)"
      ],
      "execution_count": null,
      "outputs": [
        {
          "output_type": "stream",
          "text": [
            "Your name is: Eliza\n"
          ],
          "name": "stdout"
        }
      ]
    },
    {
      "cell_type": "code",
      "metadata": {
        "id": "aLhb9MNX_sI2"
      },
      "source": [
        "def cc(first):\n",
        "  name=random.choice(first)\n",
        "  return name\n"
      ],
      "execution_count": null,
      "outputs": []
    },
    {
      "cell_type": "code",
      "metadata": {
        "id": "1PloxdfgBu6z",
        "outputId": "69853ee2-a59e-44bc-99e3-6d66577e11fd",
        "colab": {
          "base_uri": "https://localhost:8080/",
          "height": 35
        }
      },
      "source": [
        "cc(first)"
      ],
      "execution_count": null,
      "outputs": [
        {
          "output_type": "execute_result",
          "data": {
            "application/vnd.google.colaboratory.intrinsic+json": {
              "type": "string"
            },
            "text/plain": [
              "'Sarah'"
            ]
          },
          "metadata": {
            "tags": []
          },
          "execution_count": 21
        }
      ]
    },
    {
      "cell_type": "code",
      "metadata": {
        "id": "Q0NcuYWsCE3X"
      },
      "source": [
        ""
      ],
      "execution_count": null,
      "outputs": []
    }
  ]
}