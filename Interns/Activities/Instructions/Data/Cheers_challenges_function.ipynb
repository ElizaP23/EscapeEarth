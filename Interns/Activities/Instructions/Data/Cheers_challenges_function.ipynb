{
 "cells": [
  {
   "cell_type": "markdown",
   "metadata": {
    "colab_type": "text",
    "id": "view-in-github"
   },
   "source": [
    "<a href=\"https://colab.research.google.com/github/ElizaP23/EscapeEarth/blob/main/Interns/Eliza/Cheers_challenges_function.ipynb\" target=\"_parent\"><img src=\"https://colab.research.google.com/assets/colab-badge.svg\" alt=\"Open In Colab\"/></a>"
   ]
  },
  {
   "cell_type": "code",
   "execution_count": null,
   "metadata": {
    "colab": {
     "base_uri": "https://localhost:8080/"
    },
    "id": "tJq709vp9hcC",
    "outputId": "734c50b5-3dfb-4ea3-aa7a-414944307f7d"
   },
   "outputs": [
    {
     "name": "stdout",
     "output_type": "stream",
     "text": [
      "Your name is: Eliza\n"
     ]
    }
   ],
   "source": [
    "import random\n",
    "first = (\"Maria\", \"Anna Claire\", \"Eliza\", \"Sarah\", \"Elise\",)\n",
    "name= random.choice(first)\n",
    "print(\"Your name is: \" + name)"
   ]
  },
  {
   "cell_type": "code",
   "execution_count": null,
   "metadata": {
    "id": "aLhb9MNX_sI2"
   },
   "outputs": [],
   "source": [
    "def cc(first):\n",
    "  name=random.choice(first)\n",
    "  return name\n"
   ]
  },
  {
   "cell_type": "code",
   "execution_count": null,
   "metadata": {
    "colab": {
     "base_uri": "https://localhost:8080/",
     "height": 35
    },
    "id": "1PloxdfgBu6z",
    "outputId": "69853ee2-a59e-44bc-99e3-6d66577e11fd"
   },
   "outputs": [
    {
     "data": {
      "application/vnd.google.colaboratory.intrinsic+json": {
       "type": "string"
      },
      "text/plain": [
       "'Sarah'"
      ]
     },
     "execution_count": 21,
     "metadata": {
      "tags": []
     },
     "output_type": "execute_result"
    }
   ],
   "source": [
    "cc(first)"
   ]
  },
  {
   "cell_type": "code",
   "execution_count": null,
   "metadata": {
    "id": "Q0NcuYWsCE3X"
   },
   "outputs": [],
   "source": []
  }
 ],
 "metadata": {
  "colab": {
   "authorship_tag": "ABX9TyMYMJISq650RIowLd1C0m1P",
   "include_colab_link": true,
   "name": "Cheers-challenges-function.ipynb",
   "provenance": []
  },
  "kernelspec": {
   "display_name": "Python 3",
   "language": "python",
   "name": "python3"
  }
 },
 "nbformat": 4,
 "nbformat_minor": 1
}
